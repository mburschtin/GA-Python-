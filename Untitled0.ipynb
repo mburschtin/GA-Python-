{
  "nbformat": 4,
  "nbformat_minor": 0,
  "metadata": {
    "colab": {
      "name": "Untitled0.ipynb",
      "version": "0.3.2",
      "provenance": [],
      "collapsed_sections": [],
      "include_colab_link": true
    },
    "kernelspec": {
      "name": "python3",
      "display_name": "Python 3"
    }
  },
  "cells": [
    {
      "cell_type": "markdown",
      "metadata": {
        "id": "view-in-github",
        "colab_type": "text"
      },
      "source": [
        "<a href=\"https://colab.research.google.com/github/mburschtin/GA-Python-/blob/master/Untitled0.ipynb\" target=\"_parent\"><img src=\"https://colab.research.google.com/assets/colab-badge.svg\" alt=\"Open In Colab\"/></a>"
      ]
    },
    {
      "cell_type": "code",
      "metadata": {
        "id": "xel9Kq76ylfa",
        "colab_type": "code",
        "colab": {
          "base_uri": "https://localhost:8080/",
          "height": 35
        },
        "outputId": "7a124c9d-f2d2-4bb4-fa5c-ab9d44a3d91d"
      },
      "source": [
        "# first find out where we are \n",
        "\n",
        "!ls"
      ],
      "execution_count": 1,
      "outputs": [
        {
          "output_type": "stream",
          "text": [
            "movies_rated.csv  sample_data\n"
          ],
          "name": "stdout"
        }
      ]
    },
    {
      "cell_type": "markdown",
      "metadata": {
        "id": "WrP28ufczDnj",
        "colab_type": "text"
      },
      "source": [
        ""
      ]
    },
    {
      "cell_type": "code",
      "metadata": {
        "id": "0jN8AdN7zk3N",
        "colab_type": "code",
        "colab": {
          "base_uri": "https://localhost:8080/",
          "height": 155
        },
        "outputId": "db323b7f-f9eb-41ef-8ca3-9fca5e0b04bf"
      },
      "source": [
        "import pandas as pd\n",
        "\n",
        "# first 5 rows\n",
        "\n",
        "omdb_df = pd.read_csv('movies_rated.csv')\n",
        "print(omdb_df.head())"
      ],
      "execution_count": 3,
      "outputs": [
        {
          "output_type": "stream",
          "text": [
            "                      title  year  ... Rotten Tomatoes Metacritic\n",
            "0  The Shawshank Redemption  1994  ...             9.1        8.0\n",
            "1             The Godfather  1972  ...             9.8       10.0\n",
            "2           The Dark Knight  2008  ...             9.4        8.2\n",
            "3    The Godfather: Part II  1974  ...             9.7        9.0\n",
            "4              Pulp Fiction  1994  ...             9.4        9.4\n",
            "\n",
            "[5 rows x 9 columns]\n"
          ],
          "name": "stdout"
        }
      ]
    },
    {
      "cell_type": "code",
      "metadata": {
        "id": "xJpYP7qu1JAg",
        "colab_type": "code",
        "colab": {
          "base_uri": "https://localhost:8080/",
          "height": 35
        },
        "outputId": "f169c717-1532-49d9-f5a0-5870c66860e4"
      },
      "source": [
        "# num rows and columns\n",
        "omdb_df.shape"
      ],
      "execution_count": 4,
      "outputs": [
        {
          "output_type": "execute_result",
          "data": {
            "text/plain": [
              "(79, 9)"
            ]
          },
          "metadata": {
            "tags": []
          },
          "execution_count": 4
        }
      ]
    },
    {
      "cell_type": "code",
      "metadata": {
        "id": "w8oTDAZf1NKJ",
        "colab_type": "code",
        "colab": {
          "base_uri": "https://localhost:8080/",
          "height": 69
        },
        "outputId": "8600e9bc-557b-4d56-81ea-5b5264fcca3d"
      },
      "source": [
        "# print column names\n",
        "\n",
        "omdb_df.columns\n"
      ],
      "execution_count": 5,
      "outputs": [
        {
          "output_type": "execute_result",
          "data": {
            "text/plain": [
              "Index(['title', 'year', 'content_rating', 'genre', 'duration', 'gross',\n",
              "       'Internet Movie Database', 'Rotten Tomatoes', 'Metacritic'],\n",
              "      dtype='object')"
            ]
          },
          "metadata": {
            "tags": []
          },
          "execution_count": 5
        }
      ]
    },
    {
      "cell_type": "code",
      "metadata": {
        "id": "HX5aaoA31czu",
        "colab_type": "code",
        "colab": {
          "base_uri": "https://localhost:8080/",
          "height": 190
        },
        "outputId": "9b631313-c1b2-4dd4-c126-74b85fbc3ba6"
      },
      "source": [
        "# print column datatypes\n",
        "\n",
        "omdb_df.dtypes"
      ],
      "execution_count": 7,
      "outputs": [
        {
          "output_type": "execute_result",
          "data": {
            "text/plain": [
              "title                       object\n",
              "year                         int64\n",
              "content_rating              object\n",
              "genre                       object\n",
              "duration                     int64\n",
              "gross                        int64\n",
              "Internet Movie Database    float64\n",
              "Rotten Tomatoes            float64\n",
              "Metacritic                 float64\n",
              "dtype: object"
            ]
          },
          "metadata": {
            "tags": []
          },
          "execution_count": 7
        }
      ]
    },
    {
      "cell_type": "code",
      "metadata": {
        "id": "fW6HTC5U18nv",
        "colab_type": "code",
        "colab": {
          "base_uri": "https://localhost:8080/",
          "height": 35
        },
        "outputId": "9c6bdeb2-f6de-480d-e8ff-ec886ac78e07"
      },
      "source": [
        "# how many unique genres are available in the data set?\n",
        "\n",
        "omdb_df[\"genre\"].nunique()"
      ],
      "execution_count": 8,
      "outputs": [
        {
          "output_type": "execute_result",
          "data": {
            "text/plain": [
              "12"
            ]
          },
          "metadata": {
            "tags": []
          },
          "execution_count": 8
        }
      ]
    },
    {
      "cell_type": "code",
      "metadata": {
        "id": "YN10-1-Z2MKf",
        "colab_type": "code",
        "colab": {
          "base_uri": "https://localhost:8080/",
          "height": 242
        },
        "outputId": "7faaf9b2-aa4c-44df-9bfb-06301fd4965c"
      },
      "source": [
        "# how many movies are available per genre?\n",
        "\n",
        "omdb_df[\"genre\"].value_counts()"
      ],
      "execution_count": 9,
      "outputs": [
        {
          "output_type": "execute_result",
          "data": {
            "text/plain": [
              "Crime                  16\n",
              "Drama                  14\n",
              "Action                 11\n",
              "Adventure               9\n",
              "Drama                   7\n",
              "Animation               5\n",
              "Biography               5\n",
              "Comedy                  4\n",
              "Western                 3\n",
              "Mystery                 2\n",
              "Horror                  2\n",
              "Comedy                  1\n",
              "Name: genre, dtype: int64"
            ]
          },
          "metadata": {
            "tags": []
          },
          "execution_count": 9
        }
      ]
    },
    {
      "cell_type": "code",
      "metadata": {
        "id": "jufYEOfK2c5a",
        "colab_type": "code",
        "colab": {
          "base_uri": "https://localhost:8080/",
          "height": 438
        },
        "outputId": "0c75e348-14c6-4ab7-b586-5be8f654238c"
      },
      "source": [
        "# how many movies are available per genre? OTHER WAY\n",
        "\n",
        "omdb_df[[\"genre\", \"title\"]].groupby(\"genre\").count()"
      ],
      "execution_count": 11,
      "outputs": [
        {
          "output_type": "execute_result",
          "data": {
            "text/html": [
              "<div>\n",
              "<style scoped>\n",
              "    .dataframe tbody tr th:only-of-type {\n",
              "        vertical-align: middle;\n",
              "    }\n",
              "\n",
              "    .dataframe tbody tr th {\n",
              "        vertical-align: top;\n",
              "    }\n",
              "\n",
              "    .dataframe thead th {\n",
              "        text-align: right;\n",
              "    }\n",
              "</style>\n",
              "<table border=\"1\" class=\"dataframe\">\n",
              "  <thead>\n",
              "    <tr style=\"text-align: right;\">\n",
              "      <th></th>\n",
              "      <th>title</th>\n",
              "    </tr>\n",
              "    <tr>\n",
              "      <th>genre</th>\n",
              "      <th></th>\n",
              "    </tr>\n",
              "  </thead>\n",
              "  <tbody>\n",
              "    <tr>\n",
              "      <th>Action</th>\n",
              "      <td>11</td>\n",
              "    </tr>\n",
              "    <tr>\n",
              "      <th>Adventure</th>\n",
              "      <td>9</td>\n",
              "    </tr>\n",
              "    <tr>\n",
              "      <th>Animation</th>\n",
              "      <td>5</td>\n",
              "    </tr>\n",
              "    <tr>\n",
              "      <th>Biography</th>\n",
              "      <td>5</td>\n",
              "    </tr>\n",
              "    <tr>\n",
              "      <th>Comedy</th>\n",
              "      <td>4</td>\n",
              "    </tr>\n",
              "    <tr>\n",
              "      <th>Comedy</th>\n",
              "      <td>1</td>\n",
              "    </tr>\n",
              "    <tr>\n",
              "      <th>Crime</th>\n",
              "      <td>16</td>\n",
              "    </tr>\n",
              "    <tr>\n",
              "      <th>Drama</th>\n",
              "      <td>14</td>\n",
              "    </tr>\n",
              "    <tr>\n",
              "      <th>Drama</th>\n",
              "      <td>7</td>\n",
              "    </tr>\n",
              "    <tr>\n",
              "      <th>Horror</th>\n",
              "      <td>2</td>\n",
              "    </tr>\n",
              "    <tr>\n",
              "      <th>Mystery</th>\n",
              "      <td>2</td>\n",
              "    </tr>\n",
              "    <tr>\n",
              "      <th>Western</th>\n",
              "      <td>3</td>\n",
              "    </tr>\n",
              "  </tbody>\n",
              "</table>\n",
              "</div>"
            ],
            "text/plain": [
              "                     title\n",
              "genre                     \n",
              "Action                  11\n",
              "Adventure                9\n",
              "Animation                5\n",
              "Biography                5\n",
              "Comedy                   4\n",
              "Comedy                   1\n",
              "Crime                   16\n",
              "Drama                   14\n",
              "Drama                    7\n",
              "Horror                   2\n",
              "Mystery                  2\n",
              "Western                  3"
            ]
          },
          "metadata": {
            "tags": []
          },
          "execution_count": 11
        }
      ]
    },
    {
      "cell_type": "code",
      "metadata": {
        "id": "hcPiP_CA2s0i",
        "colab_type": "code",
        "colab": {
          "base_uri": "https://localhost:8080/",
          "height": 151
        },
        "outputId": "d0f530d7-8956-4de3-a23b-05ea5a688e16"
      },
      "source": [
        "# what are the top 5 R-rated moves?\n",
        "\n",
        "omdb_df[omdb_df[\"content_rating\"] == \"R\"].sort_values(by=\"Internet Movie Database\"), ascending=False.head()"
      ],
      "execution_count": 13,
      "outputs": [
        {
          "output_type": "error",
          "ename": "SyntaxError",
          "evalue": "ignored",
          "traceback": [
            "\u001b[0;36m  File \u001b[0;32m\"<ipython-input-13-e1368e830401>\"\u001b[0;36m, line \u001b[0;32m2\u001b[0m\n\u001b[0;31m    omdb_df[omdb_df[\"content_rating\"] == \"R\"].sort_values(by=\"Internet Movie Database\"), ascending=False.head()\u001b[0m\n\u001b[0m                                                                                                               ^\u001b[0m\n\u001b[0;31mSyntaxError\u001b[0m\u001b[0;31m:\u001b[0m can't assign to function call\n"
          ]
        }
      ]
    },
    {
      "cell_type": "code",
      "metadata": {
        "id": "fjJJyq8g3blP",
        "colab_type": "code",
        "colab": {
          "base_uri": "https://localhost:8080/",
          "height": 35
        },
        "outputId": "a771002a-3994-4356-ad1d-36b4befac8fd"
      },
      "source": [
        "# average rotten tomatoes scores for all available films\n",
        "\n",
        "omdb_df[\"Rotten Tomatoes\"].mean()"
      ],
      "execution_count": 14,
      "outputs": [
        {
          "output_type": "execute_result",
          "data": {
            "text/plain": [
              "9.087341772151895"
            ]
          },
          "metadata": {
            "tags": []
          },
          "execution_count": 14
        }
      ]
    },
    {
      "cell_type": "code",
      "metadata": {
        "id": "vE4-DVIA3t1I",
        "colab_type": "code",
        "colab": {}
      },
      "source": [
        ""
      ],
      "execution_count": 0,
      "outputs": []
    }
  ]
}